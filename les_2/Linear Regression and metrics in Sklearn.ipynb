{
 "cells": [
  {
   "cell_type": "markdown",
   "metadata": {},
   "source": [
    "## Линейная регрессия при помощи библиотеки sklearn"
   ]
  },
  {
   "cell_type": "code",
   "execution_count": 2,
   "metadata": {},
   "outputs": [],
   "source": [
    "# Импортируем модель линейной регрессии\n",
    "from sklearn.linear_model import LinearRegression"
   ]
  },
  {
   "cell_type": "markdown",
   "metadata": {},
   "source": [
    "Для обучения возьмем данные о ценах на дома в Бостоне. https://scikit-learn.org/stable/datasets/toy_dataset.html#boston-dataset"
   ]
  },
  {
   "cell_type": "code",
   "execution_count": 3,
   "metadata": {},
   "outputs": [
    {
     "name": "stdout",
     "output_type": "stream",
     "text": [
      "(506, 13)\n"
     ]
    },
    {
     "name": "stderr",
     "output_type": "stream",
     "text": [
      "c:\\ProgramData\\Anaconda3\\lib\\site-packages\\sklearn\\utils\\deprecation.py:87: FutureWarning: Function load_boston is deprecated; `load_boston` is deprecated in 1.0 and will be removed in 1.2.\n",
      "\n",
      "    The Boston housing prices dataset has an ethical problem. You can refer to\n",
      "    the documentation of this function for further details.\n",
      "\n",
      "    The scikit-learn maintainers therefore strongly discourage the use of this\n",
      "    dataset unless the purpose of the code is to study and educate about\n",
      "    ethical issues in data science and machine learning.\n",
      "\n",
      "    In this special case, you can fetch the dataset from the original\n",
      "    source::\n",
      "\n",
      "        import pandas as pd\n",
      "        import numpy as np\n",
      "\n",
      "\n",
      "        data_url = \"http://lib.stat.cmu.edu/datasets/boston\"\n",
      "        raw_df = pd.read_csv(data_url, sep=\"\\s+\", skiprows=22, header=None)\n",
      "        data = np.hstack([raw_df.values[::2, :], raw_df.values[1::2, :2]])\n",
      "        target = raw_df.values[1::2, 2]\n",
      "\n",
      "    Alternative datasets include the California housing dataset (i.e.\n",
      "    :func:`~sklearn.datasets.fetch_california_housing`) and the Ames housing\n",
      "    dataset. You can load the datasets as follows::\n",
      "\n",
      "        from sklearn.datasets import fetch_california_housing\n",
      "        housing = fetch_california_housing()\n",
      "\n",
      "    for the California housing dataset and::\n",
      "\n",
      "        from sklearn.datasets import fetch_openml\n",
      "        housing = fetch_openml(name=\"house_prices\", as_frame=True)\n",
      "\n",
      "    for the Ames housing dataset.\n",
      "    \n",
      "  warnings.warn(msg, category=FutureWarning)\n"
     ]
    }
   ],
   "source": [
    "# Функция для загрузки встроенного датасета\n",
    "from sklearn.datasets import load_boston\n",
    "\n",
    "# Сразу делим данные на матрицу признаков X и вектор с целевой переменно y\n",
    "X, y = load_boston(return_X_y=True)\n",
    "\n",
    "# Посмотрим на размер матрицы признаков\n",
    "print(X.shape)"
   ]
  },
  {
   "cell_type": "markdown",
   "metadata": {},
   "source": [
    "В нашей матрице признаков 506 строк и 13 столбцов, сколько признаков имеет наш датасет?"
   ]
  },
  {
   "cell_type": "markdown",
   "metadata": {},
   "source": [
    "## Создание и обучение модели\n",
    "Модель sklearn создается так: `model = LinearRegression()`\n",
    "\n",
    "Обучение модели в sklearn происходит при помощи метода `fit()` этому методу на вход подаются матрица признаков и значения целевой переменной.\n",
    "\n",
    "Для того, чтобы построить предсказания, для оценки качества модели, обучим линейную регрессию на первых 500 наблюдениях, а затем предскажем оставшиеся 6"
   ]
  },
  {
   "cell_type": "code",
   "execution_count": 5,
   "metadata": {},
   "outputs": [
    {
     "data": {
      "text/plain": [
       "LinearRegression()"
      ]
     },
     "execution_count": 5,
     "metadata": {},
     "output_type": "execute_result"
    }
   ],
   "source": [
    "# Создаем модель линейной регрессии\n",
    "model = LinearRegression()\n",
    "\n",
    "# Обучаем модель\n",
    "model.fit(X[:500], y[:500])"
   ]
  },
  {
   "cell_type": "markdown",
   "metadata": {},
   "source": [
    "## Предсказание\n",
    "\n",
    "Для предсказания при помощи обученой модели в sklearn используется метод `predict()` ему на вход подается матрица признаков и он возвращает вектор(или матрицу) с предсказанными значениями целевой переменной"
   ]
  },
  {
   "cell_type": "code",
   "execution_count": 6,
   "metadata": {},
   "outputs": [
    {
     "name": "stdout",
     "output_type": "stream",
     "text": [
      "[20.67313667 23.99202547 22.86600965 28.17894777 26.65926677 22.84943851]\n"
     ]
    }
   ],
   "source": [
    "preds = model.predict(X[500:])\n",
    "\n",
    "print(preds)"
   ]
  },
  {
   "cell_type": "markdown",
   "metadata": {},
   "source": [
    "## Оценка качества модели\n",
    "\n",
    "Для того, чтобы понять хорошо или плохо модель справляется с задачей смотрят на различные метрики. Давайте сначала импортируем среднеквадратичную ошибку и посмотрим на результат.\n",
    "\n",
    "В sklearn метрики находятся в модуле `metrics`"
   ]
  },
  {
   "cell_type": "code",
   "execution_count": 7,
   "metadata": {},
   "outputs": [
    {
     "name": "stdout",
     "output_type": "stream",
     "text": [
      "30.429816161816785\n"
     ]
    }
   ],
   "source": [
    "# Импортируем MSE\n",
    "from sklearn.metrics import mean_squared_error\n",
    "\n",
    "# На вход функция принимает вектор предсказанных и настоящих значений целевой переменной\n",
    "mse = mean_squared_error(preds, y[500:])\n",
    "\n",
    "print(mse)"
   ]
  },
  {
   "cell_type": "markdown",
   "metadata": {},
   "source": [
    "Среднеквадратичная ошибка составила 30.4 - но по одному такому значению тяжело судить о качестве модели, поэтому сравним ее корень (RMSE) со средним значением целевой переменной"
   ]
  },
  {
   "cell_type": "code",
   "execution_count": 8,
   "metadata": {},
   "outputs": [
    {
     "name": "stdout",
     "output_type": "stream",
     "text": [
      "Среднее значение целевой переменной: 22.532806324110677\n",
      "RMSE: 5.516322702835358\n"
     ]
    }
   ],
   "source": [
    "# Корень из среднеквадратичной ошибки\n",
    "rmse = mse ** .5\n",
    "\n",
    "print(\"Среднее значение целевой переменной:\", y.mean())\n",
    "print(\"RMSE:\", rmse)"
   ]
  },
  {
   "cell_type": "markdown",
   "metadata": {},
   "source": [
    "Как видно наша модель ошибается в среднем на 20%"
   ]
  }
 ],
 "metadata": {
  "kernelspec": {
   "display_name": "Python 3",
   "language": "python",
   "name": "python3"
  },
  "language_info": {
   "codemirror_mode": {
    "name": "ipython",
    "version": 3
   },
   "file_extension": ".py",
   "mimetype": "text/x-python",
   "name": "python",
   "nbconvert_exporter": "python",
   "pygments_lexer": "ipython3",
   "version": "3.9.13"
  }
 },
 "nbformat": 4,
 "nbformat_minor": 4
}
