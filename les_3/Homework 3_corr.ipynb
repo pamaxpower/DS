{
 "cells": [
  {
   "cell_type": "code",
   "execution_count": 1,
   "metadata": {},
   "outputs": [],
   "source": [
    "import seaborn as sns\n",
    "data = sns.load_dataset('tips')\n",
    "\n",
    "X = data[['total_bill']]\n",
    "y = data['tip']"
   ]
  },
  {
   "cell_type": "code",
   "execution_count": null,
   "metadata": {},
   "outputs": [],
   "source": [
    "# Дополните код для работы программы на месте троеточия \"...\"\n",
    "\n",
    "# Импортируйте функцию train_test_split и линейную регрессию\n",
    "# А также MSE\n",
    "from ... import ...\n",
    "from ... import ...\n",
    "from ... import ...\n",
    "\n",
    "# Разделите данные на тренировочную и тестовые выборки, с отношением 20%\n",
    "\n",
    "X_train, X_test, y_train, y_test = ...\n",
    "\n",
    "# Инициализируйте и обучите модель на тренировочной выборке \n",
    "model = ...\n",
    "...\n",
    "\n",
    "# Сделайте предсказание на тестовой выборке\n",
    "pred = ...\n",
    "\n",
    "# Выведите среднеквадратичную ошибку предсказания\n",
    "print(...)"
   ]
  },
  {
   "cell_type": "code",
   "execution_count": null,
   "metadata": {},
   "outputs": [],
   "source": [
    "# Импортируйте кросс-валидацию\n",
    "... \n",
    "\n",
    "# Инициализируйте кросс-валидацию с 5ю фолдами\n",
    "...\n",
    "\n",
    "# Выведите результаты кросс-валидации и среднее\n",
    "..."
   ]
  }
 ],
 "metadata": {
  "kernelspec": {
   "display_name": "Python 3 (ipykernel)",
   "language": "python",
   "name": "python3"
  },
  "language_info": {
   "codemirror_mode": {
    "name": "ipython",
    "version": 3
   },
   "file_extension": ".py",
   "mimetype": "text/x-python",
   "name": "python",
   "nbconvert_exporter": "python",
   "pygments_lexer": "ipython3",
   "version": "3.9.7"
  }
 },
 "nbformat": 4,
 "nbformat_minor": 4
}
