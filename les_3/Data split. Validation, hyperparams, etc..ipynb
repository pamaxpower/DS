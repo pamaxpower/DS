{
 "cells": [
  {
   "cell_type": "markdown",
   "metadata": {},
   "source": [
    "## Разделение данных\n",
    "\n",
    "Для того чтобы оценить качество модели, нужно оценить ее работу на данных, которые она еще не видела.\n",
    "\n",
    "В sklearn для разделения на тренировочную и тестовую выборки есть метод `train_test_split()`"
   ]
  },
  {
   "cell_type": "code",
   "execution_count": 9,
   "metadata": {},
   "outputs": [
    {
     "name": "stdout",
     "output_type": "stream",
     "text": [
      "Размерность матрицы признаков (569, 30)\n",
      "(569,)\n"
     ]
    },
    {
     "data": {
      "text/html": [
       "<div>\n",
       "<style scoped>\n",
       "    .dataframe tbody tr th:only-of-type {\n",
       "        vertical-align: middle;\n",
       "    }\n",
       "\n",
       "    .dataframe tbody tr th {\n",
       "        vertical-align: top;\n",
       "    }\n",
       "\n",
       "    .dataframe thead th {\n",
       "        text-align: right;\n",
       "    }\n",
       "</style>\n",
       "<table border=\"1\" class=\"dataframe\">\n",
       "  <thead>\n",
       "    <tr style=\"text-align: right;\">\n",
       "      <th></th>\n",
       "      <th>mean radius</th>\n",
       "      <th>mean texture</th>\n",
       "      <th>mean perimeter</th>\n",
       "      <th>mean area</th>\n",
       "      <th>mean smoothness</th>\n",
       "      <th>mean compactness</th>\n",
       "      <th>mean concavity</th>\n",
       "      <th>mean concave points</th>\n",
       "      <th>mean symmetry</th>\n",
       "      <th>mean fractal dimension</th>\n",
       "      <th>...</th>\n",
       "      <th>worst radius</th>\n",
       "      <th>worst texture</th>\n",
       "      <th>worst perimeter</th>\n",
       "      <th>worst area</th>\n",
       "      <th>worst smoothness</th>\n",
       "      <th>worst compactness</th>\n",
       "      <th>worst concavity</th>\n",
       "      <th>worst concave points</th>\n",
       "      <th>worst symmetry</th>\n",
       "      <th>worst fractal dimension</th>\n",
       "    </tr>\n",
       "  </thead>\n",
       "  <tbody>\n",
       "    <tr>\n",
       "      <th>273</th>\n",
       "      <td>9.742</td>\n",
       "      <td>15.67</td>\n",
       "      <td>61.50</td>\n",
       "      <td>289.9</td>\n",
       "      <td>0.09037</td>\n",
       "      <td>0.04689</td>\n",
       "      <td>0.01103</td>\n",
       "      <td>0.014070</td>\n",
       "      <td>0.2081</td>\n",
       "      <td>0.06312</td>\n",
       "      <td>...</td>\n",
       "      <td>10.750</td>\n",
       "      <td>20.88</td>\n",
       "      <td>68.09</td>\n",
       "      <td>355.2</td>\n",
       "      <td>0.1467</td>\n",
       "      <td>0.09370</td>\n",
       "      <td>0.04043</td>\n",
       "      <td>0.05159</td>\n",
       "      <td>0.2841</td>\n",
       "      <td>0.08175</td>\n",
       "    </tr>\n",
       "    <tr>\n",
       "      <th>313</th>\n",
       "      <td>11.540</td>\n",
       "      <td>10.72</td>\n",
       "      <td>73.73</td>\n",
       "      <td>409.1</td>\n",
       "      <td>0.08597</td>\n",
       "      <td>0.05969</td>\n",
       "      <td>0.01367</td>\n",
       "      <td>0.008907</td>\n",
       "      <td>0.1833</td>\n",
       "      <td>0.06100</td>\n",
       "      <td>...</td>\n",
       "      <td>12.340</td>\n",
       "      <td>12.87</td>\n",
       "      <td>81.23</td>\n",
       "      <td>467.8</td>\n",
       "      <td>0.1092</td>\n",
       "      <td>0.16260</td>\n",
       "      <td>0.08324</td>\n",
       "      <td>0.04715</td>\n",
       "      <td>0.3390</td>\n",
       "      <td>0.07434</td>\n",
       "    </tr>\n",
       "    <tr>\n",
       "      <th>61</th>\n",
       "      <td>8.598</td>\n",
       "      <td>20.98</td>\n",
       "      <td>54.66</td>\n",
       "      <td>221.8</td>\n",
       "      <td>0.12430</td>\n",
       "      <td>0.08963</td>\n",
       "      <td>0.03000</td>\n",
       "      <td>0.009259</td>\n",
       "      <td>0.1828</td>\n",
       "      <td>0.06757</td>\n",
       "      <td>...</td>\n",
       "      <td>9.565</td>\n",
       "      <td>27.04</td>\n",
       "      <td>62.06</td>\n",
       "      <td>273.9</td>\n",
       "      <td>0.1639</td>\n",
       "      <td>0.16980</td>\n",
       "      <td>0.09001</td>\n",
       "      <td>0.02778</td>\n",
       "      <td>0.2972</td>\n",
       "      <td>0.07712</td>\n",
       "    </tr>\n",
       "    <tr>\n",
       "      <th>119</th>\n",
       "      <td>17.950</td>\n",
       "      <td>20.01</td>\n",
       "      <td>114.20</td>\n",
       "      <td>982.0</td>\n",
       "      <td>0.08402</td>\n",
       "      <td>0.06722</td>\n",
       "      <td>0.07293</td>\n",
       "      <td>0.055960</td>\n",
       "      <td>0.2129</td>\n",
       "      <td>0.05025</td>\n",
       "      <td>...</td>\n",
       "      <td>20.580</td>\n",
       "      <td>27.83</td>\n",
       "      <td>129.20</td>\n",
       "      <td>1261.0</td>\n",
       "      <td>0.1072</td>\n",
       "      <td>0.12020</td>\n",
       "      <td>0.22490</td>\n",
       "      <td>0.11850</td>\n",
       "      <td>0.4882</td>\n",
       "      <td>0.06111</td>\n",
       "    </tr>\n",
       "    <tr>\n",
       "      <th>141</th>\n",
       "      <td>16.110</td>\n",
       "      <td>18.05</td>\n",
       "      <td>105.10</td>\n",
       "      <td>813.0</td>\n",
       "      <td>0.09721</td>\n",
       "      <td>0.11370</td>\n",
       "      <td>0.09447</td>\n",
       "      <td>0.059430</td>\n",
       "      <td>0.1861</td>\n",
       "      <td>0.06248</td>\n",
       "      <td>...</td>\n",
       "      <td>19.920</td>\n",
       "      <td>25.27</td>\n",
       "      <td>129.00</td>\n",
       "      <td>1233.0</td>\n",
       "      <td>0.1314</td>\n",
       "      <td>0.22360</td>\n",
       "      <td>0.28020</td>\n",
       "      <td>0.12160</td>\n",
       "      <td>0.2792</td>\n",
       "      <td>0.08158</td>\n",
       "    </tr>\n",
       "    <tr>\n",
       "      <th>409</th>\n",
       "      <td>12.270</td>\n",
       "      <td>17.92</td>\n",
       "      <td>78.41</td>\n",
       "      <td>466.1</td>\n",
       "      <td>0.08685</td>\n",
       "      <td>0.06526</td>\n",
       "      <td>0.03211</td>\n",
       "      <td>0.026530</td>\n",
       "      <td>0.1966</td>\n",
       "      <td>0.05597</td>\n",
       "      <td>...</td>\n",
       "      <td>14.100</td>\n",
       "      <td>28.88</td>\n",
       "      <td>89.00</td>\n",
       "      <td>610.2</td>\n",
       "      <td>0.1240</td>\n",
       "      <td>0.17950</td>\n",
       "      <td>0.13770</td>\n",
       "      <td>0.09532</td>\n",
       "      <td>0.3455</td>\n",
       "      <td>0.06896</td>\n",
       "    </tr>\n",
       "    <tr>\n",
       "      <th>180</th>\n",
       "      <td>27.220</td>\n",
       "      <td>21.87</td>\n",
       "      <td>182.10</td>\n",
       "      <td>2250.0</td>\n",
       "      <td>0.10940</td>\n",
       "      <td>0.19140</td>\n",
       "      <td>0.28710</td>\n",
       "      <td>0.187800</td>\n",
       "      <td>0.1800</td>\n",
       "      <td>0.05770</td>\n",
       "      <td>...</td>\n",
       "      <td>33.120</td>\n",
       "      <td>32.85</td>\n",
       "      <td>220.80</td>\n",
       "      <td>3216.0</td>\n",
       "      <td>0.1472</td>\n",
       "      <td>0.40340</td>\n",
       "      <td>0.53400</td>\n",
       "      <td>0.26880</td>\n",
       "      <td>0.2856</td>\n",
       "      <td>0.08082</td>\n",
       "    </tr>\n",
       "    <tr>\n",
       "      <th>316</th>\n",
       "      <td>12.180</td>\n",
       "      <td>14.08</td>\n",
       "      <td>77.25</td>\n",
       "      <td>461.4</td>\n",
       "      <td>0.07734</td>\n",
       "      <td>0.03212</td>\n",
       "      <td>0.01123</td>\n",
       "      <td>0.005051</td>\n",
       "      <td>0.1673</td>\n",
       "      <td>0.05649</td>\n",
       "      <td>...</td>\n",
       "      <td>12.850</td>\n",
       "      <td>16.47</td>\n",
       "      <td>81.60</td>\n",
       "      <td>513.1</td>\n",
       "      <td>0.1001</td>\n",
       "      <td>0.05332</td>\n",
       "      <td>0.04116</td>\n",
       "      <td>0.01852</td>\n",
       "      <td>0.2293</td>\n",
       "      <td>0.06037</td>\n",
       "    </tr>\n",
       "    <tr>\n",
       "      <th>220</th>\n",
       "      <td>13.650</td>\n",
       "      <td>13.16</td>\n",
       "      <td>87.88</td>\n",
       "      <td>568.9</td>\n",
       "      <td>0.09646</td>\n",
       "      <td>0.08711</td>\n",
       "      <td>0.03888</td>\n",
       "      <td>0.025630</td>\n",
       "      <td>0.1360</td>\n",
       "      <td>0.06344</td>\n",
       "      <td>...</td>\n",
       "      <td>15.340</td>\n",
       "      <td>16.35</td>\n",
       "      <td>99.71</td>\n",
       "      <td>706.2</td>\n",
       "      <td>0.1311</td>\n",
       "      <td>0.24740</td>\n",
       "      <td>0.17590</td>\n",
       "      <td>0.08056</td>\n",
       "      <td>0.2380</td>\n",
       "      <td>0.08718</td>\n",
       "    </tr>\n",
       "    <tr>\n",
       "      <th>19</th>\n",
       "      <td>13.540</td>\n",
       "      <td>14.36</td>\n",
       "      <td>87.46</td>\n",
       "      <td>566.3</td>\n",
       "      <td>0.09779</td>\n",
       "      <td>0.08129</td>\n",
       "      <td>0.06664</td>\n",
       "      <td>0.047810</td>\n",
       "      <td>0.1885</td>\n",
       "      <td>0.05766</td>\n",
       "      <td>...</td>\n",
       "      <td>15.110</td>\n",
       "      <td>19.26</td>\n",
       "      <td>99.70</td>\n",
       "      <td>711.2</td>\n",
       "      <td>0.1440</td>\n",
       "      <td>0.17730</td>\n",
       "      <td>0.23900</td>\n",
       "      <td>0.12880</td>\n",
       "      <td>0.2977</td>\n",
       "      <td>0.07259</td>\n",
       "    </tr>\n",
       "  </tbody>\n",
       "</table>\n",
       "<p>10 rows × 30 columns</p>\n",
       "</div>"
      ],
      "text/plain": [
       "     mean radius  mean texture  mean perimeter  mean area  mean smoothness  \\\n",
       "273        9.742         15.67           61.50      289.9          0.09037   \n",
       "313       11.540         10.72           73.73      409.1          0.08597   \n",
       "61         8.598         20.98           54.66      221.8          0.12430   \n",
       "119       17.950         20.01          114.20      982.0          0.08402   \n",
       "141       16.110         18.05          105.10      813.0          0.09721   \n",
       "409       12.270         17.92           78.41      466.1          0.08685   \n",
       "180       27.220         21.87          182.10     2250.0          0.10940   \n",
       "316       12.180         14.08           77.25      461.4          0.07734   \n",
       "220       13.650         13.16           87.88      568.9          0.09646   \n",
       "19        13.540         14.36           87.46      566.3          0.09779   \n",
       "\n",
       "     mean compactness  mean concavity  mean concave points  mean symmetry  \\\n",
       "273           0.04689         0.01103             0.014070         0.2081   \n",
       "313           0.05969         0.01367             0.008907         0.1833   \n",
       "61            0.08963         0.03000             0.009259         0.1828   \n",
       "119           0.06722         0.07293             0.055960         0.2129   \n",
       "141           0.11370         0.09447             0.059430         0.1861   \n",
       "409           0.06526         0.03211             0.026530         0.1966   \n",
       "180           0.19140         0.28710             0.187800         0.1800   \n",
       "316           0.03212         0.01123             0.005051         0.1673   \n",
       "220           0.08711         0.03888             0.025630         0.1360   \n",
       "19            0.08129         0.06664             0.047810         0.1885   \n",
       "\n",
       "     mean fractal dimension  ...  worst radius  worst texture  \\\n",
       "273                 0.06312  ...        10.750          20.88   \n",
       "313                 0.06100  ...        12.340          12.87   \n",
       "61                  0.06757  ...         9.565          27.04   \n",
       "119                 0.05025  ...        20.580          27.83   \n",
       "141                 0.06248  ...        19.920          25.27   \n",
       "409                 0.05597  ...        14.100          28.88   \n",
       "180                 0.05770  ...        33.120          32.85   \n",
       "316                 0.05649  ...        12.850          16.47   \n",
       "220                 0.06344  ...        15.340          16.35   \n",
       "19                  0.05766  ...        15.110          19.26   \n",
       "\n",
       "     worst perimeter  worst area  worst smoothness  worst compactness  \\\n",
       "273            68.09       355.2            0.1467            0.09370   \n",
       "313            81.23       467.8            0.1092            0.16260   \n",
       "61             62.06       273.9            0.1639            0.16980   \n",
       "119           129.20      1261.0            0.1072            0.12020   \n",
       "141           129.00      1233.0            0.1314            0.22360   \n",
       "409            89.00       610.2            0.1240            0.17950   \n",
       "180           220.80      3216.0            0.1472            0.40340   \n",
       "316            81.60       513.1            0.1001            0.05332   \n",
       "220            99.71       706.2            0.1311            0.24740   \n",
       "19             99.70       711.2            0.1440            0.17730   \n",
       "\n",
       "     worst concavity  worst concave points  worst symmetry  \\\n",
       "273          0.04043               0.05159          0.2841   \n",
       "313          0.08324               0.04715          0.3390   \n",
       "61           0.09001               0.02778          0.2972   \n",
       "119          0.22490               0.11850          0.4882   \n",
       "141          0.28020               0.12160          0.2792   \n",
       "409          0.13770               0.09532          0.3455   \n",
       "180          0.53400               0.26880          0.2856   \n",
       "316          0.04116               0.01852          0.2293   \n",
       "220          0.17590               0.08056          0.2380   \n",
       "19           0.23900               0.12880          0.2977   \n",
       "\n",
       "     worst fractal dimension  \n",
       "273                  0.08175  \n",
       "313                  0.07434  \n",
       "61                   0.07712  \n",
       "119                  0.06111  \n",
       "141                  0.08158  \n",
       "409                  0.06896  \n",
       "180                  0.08082  \n",
       "316                  0.06037  \n",
       "220                  0.08718  \n",
       "19                   0.07259  \n",
       "\n",
       "[10 rows x 30 columns]"
      ]
     },
     "execution_count": 9,
     "metadata": {},
     "output_type": "execute_result"
    }
   ],
   "source": [
    "# Импортируем данные\n",
    "from sklearn.datasets import load_breast_cancer\n",
    "\n",
    "# Загружаем исходные данные\n",
    "X, y = load_breast_cancer(return_X_y = True, as_frame = True)\n",
    "\n",
    "print(\"Размерность матрицы признаков\", X.shape)\n",
    "print(y.shape)\n",
    "\n",
    "X.sample(10)"
   ]
  },
  {
   "cell_type": "code",
   "execution_count": 10,
   "metadata": {
    "scrolled": true
   },
   "outputs": [
    {
     "name": "stdout",
     "output_type": "stream",
     "text": [
      "Размерность тренировочной выборки: (455, 30)\n",
      "Размерность тестовой выборки: (114, 30)\n"
     ]
    }
   ],
   "source": [
    "# Импорт функции \n",
    "from sklearn.model_selection import train_test_split\n",
    "\n",
    "X_train, X_test, y_train, y_test = train_test_split(X, y, random_state = 42, test_size = .2)\n",
    "\n",
    "print(\"Размерность тренировочной выборки:\", X_train.shape)\n",
    "print(\"Размерность тестовой выборки:\", X_test.shape)"
   ]
  },
  {
   "cell_type": "markdown",
   "metadata": {},
   "source": [
    "## Логистическая регрессия\n",
    "\n",
    "Логистическая регрессия - вероятностная модель, предсказывающая принадлежность наблюдения какому-либо классу.\n",
    "\n",
    "Задается при помощи логистической функции: $$f(x) = \\frac{1}{1 + e^{-x}}$$\n",
    "\n",
    "Если хочется узнать математическую базу алгоритма (нужно знать теорию вероятностей): https://ru.wikipedia.org/wiki/%D0%9B%D0%BE%D0%B3%D0%B8%D1%81%D1%82%D0%B8%D1%87%D0%B5%D1%81%D0%BA%D0%B0%D1%8F_%D1%80%D0%B5%D0%B3%D1%80%D0%B5%D1%81%D1%81%D0%B8%D1%8F"
   ]
  },
  {
   "cell_type": "code",
   "execution_count": 11,
   "metadata": {
    "scrolled": false
   },
   "outputs": [
    {
     "data": {
      "image/png": "[encoded data removed]",
      "text/plain": [
       "<Figure size 1000x1000 with 1 Axes>"
      ]
     },
     "metadata": {},
     "output_type": "display_data"
    }
   ],
   "source": [
    "import numpy as np\n",
    "import matplotlib.pyplot as plt\n",
    "\n",
    "def log_func(x):\n",
    "    return 1/(1 + np.exp(-x))\n",
    "\n",
    "plt.figure(figsize = (10, 10))\n",
    "plt.plot([x for x in range(-6, 7)], [log_func(x) for x in range(-6, 7)],\n",
    "        label = 'f(x) = 1/(1 + e^(-x))')\n",
    "plt.title('График логистической функции')\n",
    "plt.legend()\n",
    "\n",
    "plt.show()"
   ]
  },
  {
   "cell_type": "markdown",
   "metadata": {},
   "source": [
    "В библиотеке sklearn логистическая регрессия является частью класса `linear_model`\n",
    "\n",
    "Обучим модель на тренировочной выборке"
   ]
  },
  {
   "cell_type": "code",
   "execution_count": 12,
   "metadata": {},
   "outputs": [
    {
     "name": "stderr",
     "output_type": "stream",
     "text": [
      "c:\\Users\\Lenovo\\AppData\\Local\\Programs\\Python\\Python310\\lib\\site-packages\\sklearn\\linear_model\\_logistic.py:814: ConvergenceWarning: lbfgs failed to converge (status=1):\n",
      "STOP: TOTAL NO. of ITERATIONS REACHED LIMIT.\n",
      "\n",
      "Increase the number of iterations (max_iter) or scale the data as shown in:\n",
      "    https://scikit-learn.org/stable/modules/preprocessing.html\n",
      "Please also refer to the documentation for alternative solver options:\n",
      "    https://scikit-learn.org/stable/modules/linear_model.html#logistic-regression\n",
      "  n_iter_i = _check_optimize_result(\n"
     ]
    },
    {
     "data": {
      "text/plain": [
       "LogisticRegression(random_state=42)"
      ]
     },
     "execution_count": 12,
     "metadata": {},
     "output_type": "execute_result"
    }
   ],
   "source": [
    "# Импортируем лог. регрессию\n",
    "from sklearn.linear_model import LogisticRegression\n",
    "\n",
    "# Создаем модель\n",
    "model = LogisticRegression(random_state = 42)\n",
    "\n",
    "model.fit(X_train, y_train)"
   ]
  },
  {
   "cell_type": "markdown",
   "metadata": {},
   "source": [
    "Т.к. это задача классификации посмотрим на accuracy и roc_auc_score на тестовых данных"
   ]
  },
  {
   "cell_type": "code",
   "execution_count": 13,
   "metadata": {},
   "outputs": [
    {
     "name": "stdout",
     "output_type": "stream",
     "text": [
      "Accuracy score: 0.9649122807017544\n",
      "roc_auc_score score: 0.9672569328433009\n"
     ]
    }
   ],
   "source": [
    "from sklearn.metrics import accuracy_score, roc_auc_score\n",
    "\n",
    "pred = model.predict(X_test)\n",
    "\n",
    "print('Accuracy score:', accuracy_score(pred, y_test))\n",
    "print('roc_auc_score score:', roc_auc_score(pred, y_test))"
   ]
  },
  {
   "cell_type": "markdown",
   "metadata": {},
   "source": [
    "## Гиперпараметры и их подбор\n",
    "\n",
    "У модели логистической немного гиперпараметров, полный список можно посмотреть здесь: https://scikit-learn.org/stable/modules/generated/sklearn.linear_model.LogisticRegression.html#sklearn.linear_model.LogisticRegression\n",
    "\n",
    "Попробуем увеличить количество итераций `max_iter` с дефолтных 100 на 1000"
   ]
  },
  {
   "cell_type": "code",
   "execution_count": 14,
   "metadata": {},
   "outputs": [
    {
     "name": "stdout",
     "output_type": "stream",
     "text": [
      "Accuracy score: 0.956140350877193\n",
      "roc_auc_score score: 0.9604729729729731\n"
     ]
    },
    {
     "name": "stderr",
     "output_type": "stream",
     "text": [
      "c:\\Users\\Lenovo\\AppData\\Local\\Programs\\Python\\Python310\\lib\\site-packages\\sklearn\\linear_model\\_logistic.py:814: ConvergenceWarning: lbfgs failed to converge (status=1):\n",
      "STOP: TOTAL NO. of ITERATIONS REACHED LIMIT.\n",
      "\n",
      "Increase the number of iterations (max_iter) or scale the data as shown in:\n",
      "    https://scikit-learn.org/stable/modules/preprocessing.html\n",
      "Please also refer to the documentation for alternative solver options:\n",
      "    https://scikit-learn.org/stable/modules/linear_model.html#logistic-regression\n",
      "  n_iter_i = _check_optimize_result(\n"
     ]
    }
   ],
   "source": [
    "model_1000 = LogisticRegression(max_iter = 1000, random_state = 42)\n",
    "\n",
    "model_1000.fit(X_train, y_train)\n",
    "pred_1000 = model_1000.predict(X_test)\n",
    "\n",
    "print('Accuracy score:', accuracy_score(pred_1000, y_test))\n",
    "print('roc_auc_score score:', roc_auc_score(pred_1000, y_test))\n"
   ]
  },
  {
   "cell_type": "markdown",
   "metadata": {},
   "source": [
    "У многих других алгоритмов, например основанных на деревьях принятия решений, о которых мы поговорим на следующем уроке, может быть очень много гиперпараметров и подбирать их оптимальную комбинацию - трудоемкий процесс.\n",
    "\n",
    "Для этих целей можно использовать встроенные в sklearn методы поиска по сетке `GridSearchCV` и случайного поиска `RandomizedSearchCV`"
   ]
  },
  {
   "cell_type": "code",
   "execution_count": 15,
   "metadata": {},
   "outputs": [
    {
     "name": "stdout",
     "output_type": "stream",
     "text": [
      "Лучшая комбинация гиперпараметров {'C': 1, 'kernel': 'linear'}\n"
     ]
    }
   ],
   "source": [
    "# Импорт модуля svm\n",
    "from sklearn import svm\n",
    "\n",
    "# Импорт функции для поиска по сетке\n",
    "from sklearn.model_selection import GridSearchCV\n",
    "\n",
    "parameters = {'kernel':('linear', 'rbf'), 'C':[1, 10]}\n",
    "\n",
    "# модель\n",
    "svc = svm.SVC()\n",
    "# поиск по сетке\n",
    "clf = GridSearchCV(svc, parameters)\n",
    "clf.fit(X_train, y_train)\n",
    "\n",
    "print(\"Лучшая комбинация гиперпараметров\", clf.best_params_)"
   ]
  },
  {
   "cell_type": "markdown",
   "metadata": {},
   "source": [
    "## Кросс-валидация\n",
    "\n",
    "Используя обычный `train_test_split` может возникнуть такая ситуация: в обучающую выборку попали лишь объекты одного класса, соответственно модель научится определять только один класс\n",
    "\n",
    "Чтобы избежать такого и других сценариев связанных со случайным разбиением данных на выборки, применяют **кросс-валидацию**\n",
    "\n",
    "Типичным примером кросс-валидации является `KFold`"
   ]
  },
  {
   "cell_type": "code",
   "execution_count": 16,
   "metadata": {},
   "outputs": [
    {
     "ename": "NameError",
     "evalue": "name 'n_splits' is not defined",
     "output_type": "error",
     "traceback": [
      "\u001b[1;31m---------------------------------------------------------------------------\u001b[0m",
      "\u001b[1;31mNameError\u001b[0m                                 Traceback (most recent call last)",
      "Cell \u001b[1;32mIn[16], line 42\u001b[0m\n\u001b[0;32m     40\u001b[0m fig, ax \u001b[38;5;241m=\u001b[39m plt\u001b[38;5;241m.\u001b[39msubplots(figsize \u001b[38;5;241m=\u001b[39m (\u001b[38;5;241m10\u001b[39m, \u001b[38;5;241m10\u001b[39m))\n\u001b[0;32m     41\u001b[0m \u001b[38;5;66;03m# Создаем KFold\u001b[39;00m\n\u001b[1;32m---> 42\u001b[0m cv \u001b[38;5;241m=\u001b[39m KFold(\u001b[43mn_splits\u001b[49m)\n\u001b[0;32m     43\u001b[0m plot_cv_indices(cv, X, y, groups, ax, n_splits)\n",
      "\u001b[1;31mNameError\u001b[0m: name 'n_splits' is not defined"
     ]
    },
    {
     "data": {
      "image/png": "[encoded data removed]",
      "text/plain": [
       "<Figure size 1000x1000 with 1 Axes>"
      ]
     },
     "metadata": {},
     "output_type": "display_data"
    }
   ],
   "source": [
    "# KFold находится в модуле `model_selection`\n",
    "from sklearn.model_selection import KFold\n",
    "\n",
    "# Для визуализации\n",
    "from matplotlib.patches import Patch\n",
    "\n",
    "\n",
    "# Функция для визуализации\n",
    "def plot_cv_indices(cv, X, y, group, ax, n_splits, lw=10):\n",
    "    \"\"\"Create a sample plot for indices of a cross-validation object.\"\"\"\n",
    "\n",
    "    # Generate the training/testing visualizations for each CV split\n",
    "    for ii, (tr, tt) in enumerate(cv.split(X=X, y=y, groups=group)):\n",
    "        # Fill in indices with the training/test groups\n",
    "        indices = np.array([np.nan] * len(X))\n",
    "        indices[tt] = 1\n",
    "        indices[tr] = 0\n",
    "\n",
    "        # Visualize the results\n",
    "        ax.scatter(range(len(indices)), [ii + .5] * len(indices),\n",
    "                   c=indices, marker='_', lw=lw, cmap=cmap_cv,\n",
    "                   vmin=-.2, vmax=1.2)\n",
    "\n",
    "    # Plot the data classes and groups at the end\n",
    "    ax.scatter(range(len(X)), [ii + 1.5] * len(X),\n",
    "               c=y, marker='_', lw=lw, cmap=cmap_data)\n",
    "\n",
    "    ax.scatter(range(len(X)), [ii + 2.5] * len(X),\n",
    "               c=group, marker='_', lw=lw, cmap=cmap_data)\n",
    "\n",
    "    # Formatting\n",
    "    yticklabels = list(range(n_splits)) + ['class', 'group']\n",
    "    ax.set(yticks=np.arange(n_splits+2) + .5, yticklabels=yticklabels,\n",
    "           xlabel='Sample index', ylabel=\"CV iteration\",\n",
    "           ylim=[n_splits+2.2, -.2], xlim=[0, 100])\n",
    "    ax.set_title('{}'.format(type(cv).__name__), fontsize=15)\n",
    "    return ax\n",
    "\n",
    "\n",
    "fig, ax = plt.subplots(figsize = (10, 10))\n",
    "# Создаем KFold\n",
    "cv = KFold(n_splits)\n",
    "plot_cv_indices(cv, X, y, groups, ax, n_splits)"
   ]
  },
  {
   "cell_type": "code",
   "execution_count": null,
   "metadata": {},
   "outputs": [],
   "source": []
  }
 ],
 "metadata": {
  "kernelspec": {
   "display_name": "Python 3",
   "language": "python",
   "name": "python3"
  },
  "language_info": {
   "codemirror_mode": {
    "name": "ipython",
    "version": 3
   },
   "file_extension": ".py",
   "mimetype": "text/x-python",
   "name": "python",
   "nbconvert_exporter": "python",
   "pygments_lexer": "ipython3",
   "version": "3.10.9"
  }
 },
 "nbformat": 4,
 "nbformat_minor": 4
}
