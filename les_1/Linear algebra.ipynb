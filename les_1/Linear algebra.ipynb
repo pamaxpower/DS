{
 "cells": [
  {
   "cell_type": "markdown",
   "metadata": {},
   "source": [
    "# Линейная алгебра"
   ]
  },
  {
   "cell_type": "markdown",
   "metadata": {},
   "source": [
    "### Векторы \n",
    "\n",
    "Слово \"вектор\" чаще всего ассоциируется с той самой стрелочкой с уроков геометрии в девятом классе. \n",
    "Но на самом деле в математике **вектор** - это упорядоченный набор числовых данных. Векторы обозначаются прописными буквами\n",
    "\n",
    "Различают два вида векторов:\n",
    "1) вектор-строка: $y = \\begin{pmatrix}\n",
    "1 & 2 & 3 \\\\\n",
    "\\end{pmatrix}$\n",
    "\n",
    "2) вектор-столбец: $y = \\begin{pmatrix}\n",
    "1 \\\\\n",
    "2 \\\\\n",
    "3 \\\\\n",
    "\\end{pmatrix}  $\n",
    "\n",
    "В языке Python векторы можно создавать при помощи библиотеки NumPy"
   ]
  },
  {
   "cell_type": "code",
   "execution_count": 1,
   "metadata": {},
   "outputs": [
    {
     "name": "stdout",
     "output_type": "stream",
     "text": [
      "[1 2 3]\n"
     ]
    }
   ],
   "source": [
    "# Импортируем библиотеку\n",
    "import numpy as np\n",
    "\n",
    "# Создадим вектор при помощи numpy\n",
    "\n",
    "v_1 = np.array([1, 2, 3])\n",
    "print(v_1)"
   ]
  },
  {
   "cell_type": "markdown",
   "metadata": {},
   "source": [
    "Столбец pandas.DataFrame можно превратить в NumPy вектор при помощи атрибута `values`:"
   ]
  },
  {
   "cell_type": "code",
   "execution_count": 2,
   "metadata": {},
   "outputs": [
    {
     "name": "stdout",
     "output_type": "stream",
     "text": [
      "<class 'pandas.core.frame.DataFrame'>\n",
      "<class 'numpy.ndarray'>\n",
      "[3 2 1]\n"
     ]
    }
   ],
   "source": [
    "import pandas as pd\n",
    "\n",
    "df = pd.DataFrame({'A': [3, 2, 1]})\n",
    "\n",
    "print(type(df)) # Выводим тип переменной df\n",
    "\n",
    "v_2 = df['A'].values\n",
    "\n",
    "print(type(v_2)) # Выводим переменную v_2 и ее тип\n",
    "print(v_2)"
   ]
  },
  {
   "cell_type": "markdown",
   "metadata": {},
   "source": [
    "### Действия над векторами\n",
    "\n",
    "Векторы одной размерности можно складывать и вычитать, эти действия производятся поэлементно\n",
    "\n",
    "$x = \\begin{pmatrix}\n",
    "x_1 & x_2 & \\ldots & x_n \\\\\n",
    "\\end{pmatrix}$\n",
    "\n",
    "$y = \\begin{pmatrix}\n",
    "y_1 & y_2 & \\ldots & y_n \\\\\n",
    "\\end{pmatrix}$\n",
    "\n",
    "$x + y = \\begin{pmatrix}\n",
    "x_1 + y_1 & x_2 + y_2 & \\ldots & x_n + y_n\\\\\n",
    "\\end{pmatrix}$\n",
    "\n",
    "$x - y = \\begin{pmatrix}\n",
    "x_1 - y_1 & x_2 - y_2 & \\ldots & x_n - y_n\\\\\n",
    "\\end{pmatrix}$\n",
    "\n",
    "Сложим и вычтем векторы v_1 и v_2"
   ]
  },
  {
   "cell_type": "code",
   "execution_count": 3,
   "metadata": {},
   "outputs": [
    {
     "name": "stdout",
     "output_type": "stream",
     "text": [
      "[4 4 4]\n",
      "[-2  0  2]\n"
     ]
    }
   ],
   "source": [
    "vector_sum = v_1 + v_2\n",
    "vector_difference = v_1 - v_2\n",
    "\n",
    "print(vector_sum)\n",
    "print(vector_difference)"
   ]
  },
  {
   "cell_type": "markdown",
   "metadata": {},
   "source": [
    "Векторы можно умножать на число:"
   ]
  },
  {
   "cell_type": "code",
   "execution_count": 4,
   "metadata": {},
   "outputs": [
    {
     "name": "stdout",
     "output_type": "stream",
     "text": [
      "[3 6 9]\n"
     ]
    }
   ],
   "source": [
    "v_3 = 3 * v_1\n",
    "\n",
    "print(v_3)"
   ]
  },
  {
   "cell_type": "markdown",
   "metadata": {},
   "source": [
    "### Геометрический смысл векторов\n",
    "\n",
    "*Вектор — направленный отрезок прямой, то есть отрезок, для которого указано, какая из его граничных точек является началом, а какая — концом* **(с) Википедия**\n",
    "\n",
    "У векторов ниже точкой начала будет начало координат - точка (0, 0)\n",
    "\n",
    "Изобразим двумереный вектор на плоскости:"
   ]
  },
  {
   "cell_type": "code",
   "execution_count": 9,
   "metadata": {},
   "outputs": [
    {
     "data": {
      "image/png": "[encoded data removed]",
      "text/plain": [
       "<Figure size 500x500 with 1 Axes>"
      ]
     },
     "metadata": {},
     "output_type": "display_data"
    }
   ],
   "source": [
    "import matplotlib.pyplot as plt\n",
    "\n",
    "# Задаем векторы\n",
    "a = np.array([2, 5])\n",
    "b = np.array([1, 4])\n",
    "\n",
    "# Размеры графика\n",
    "plt.figure(figsize = (5, 5))\n",
    "\n",
    "# Задаем размеры графика\n",
    "plt.axis((0, 5, 0, 5))\n",
    "\n",
    "plt.arrow(0, 0, a[0], a[1], length_includes_head = \"True\", color = 'red', head_width = 0.3)\n",
    "plt.arrow(0, 0, b[0], b[1], length_includes_head = \"True\", color = 'black', head_width = 0.3)\n",
    "\n",
    "plt.show()"
   ]
  },
  {
   "cell_type": "markdown",
   "metadata": {},
   "source": [
    "Если умножить вектор на положительное число, то его направление не изменится, но увеличится длина"
   ]
  },
  {
   "cell_type": "code",
   "execution_count": 10,
   "metadata": {},
   "outputs": [
    {
     "data": {
      "image/png": "[encoded data removed]",
      "text/plain": [
       "<Figure size 500x500 with 1 Axes>"
      ]
     },
     "metadata": {},
     "output_type": "display_data"
    }
   ],
   "source": [
    "a_new = 2 * a\n",
    "b_new = 0.5 * b\n",
    "\n",
    "plt.figure(figsize = (5, 5))\n",
    "\n",
    "plt.axis((0, 10, 0, 10))\n",
    "plt.arrow(0, 0, a_new[0], a_new[1], length_includes_head = \"True\", color = 'red', head_width = 0.3)\n",
    "plt.arrow(0, 0, b_new[0], b_new[1], length_includes_head = \"True\", color = 'black', head_width = 0.3)\n",
    "\n",
    "plt.show()"
   ]
  },
  {
   "cell_type": "markdown",
   "metadata": {},
   "source": [
    "Если умножить вектор на отрицательное число, то он изменит свое направление"
   ]
  },
  {
   "cell_type": "code",
   "execution_count": 11,
   "metadata": {},
   "outputs": [
    {
     "data": {
      "image/png": "[encoded data removed]",
      "text/plain": [
       "<Figure size 500x500 with 1 Axes>"
      ]
     },
     "metadata": {},
     "output_type": "display_data"
    }
   ],
   "source": [
    "a_minus = -1 * a\n",
    "\n",
    "plt.figure(figsize = (5, 5))\n",
    "\n",
    "plt.arrow(0, 0, a[0], a[1], length_includes_head = \"True\", color = 'red', head_width = 0.3)\n",
    "plt.arrow(0, 0, a_minus[0], a_minus[1], length_includes_head = \"True\", color = 'black', head_width = 0.3)\n",
    "plt.show()"
   ]
  },
  {
   "cell_type": "markdown",
   "metadata": {},
   "source": [
    "### Матрицы\n",
    "\n",
    "Матрица - это числовая таблица, состоящая из m строк и n столбцов, обозначается заглавной буквой, в индексе иногда указывается размер. Элементы матрицы обозначаются индексами i - номер строки, j - номер столбца:\n",
    "\n",
    "$ A = \\begin{pmatrix}\n",
    "a_{11} & \\ldots & a_{1n} \\\\\n",
    "a_{21} & \\ldots & a_{2n} \\\\\n",
    "\\vdots & \\vdots & \\vdots \\\\\n",
    "a_{m1} & \\ldots & a_{mn} \\\\\n",
    "\\end{pmatrix} $\n",
    "\n",
    "Матрицы с одинаковым количеством строк и столбцов называют **квадратными**\n",
    "\n",
    "В numpy матрицы есть двумерный массив:"
   ]
  },
  {
   "cell_type": "code",
   "execution_count": 12,
   "metadata": {},
   "outputs": [
    {
     "name": "stdout",
     "output_type": "stream",
     "text": [
      "[[1 2]\n",
      " [3 4]]\n"
     ]
    }
   ],
   "source": [
    "A = np.array([\n",
    "    [1, 2], \n",
    "    [3, 4]\n",
    "])\n",
    "\n",
    "print(A)"
   ]
  },
  {
   "cell_type": "markdown",
   "metadata": {},
   "source": [
    "Если применить атрибут `values` к нескольким столбцам pandas DataFrame, то получим матрицу"
   ]
  },
  {
   "cell_type": "code",
   "execution_count": 13,
   "metadata": {},
   "outputs": [
    {
     "name": "stdout",
     "output_type": "stream",
     "text": [
      "   A  B\n",
      "0  1  4\n",
      "1  2  5\n",
      "2  3  6\n",
      "[[1 4]\n",
      " [2 5]\n",
      " [3 6]]\n"
     ]
    }
   ],
   "source": [
    "# Создаем датафрейм\n",
    "df = pd.DataFrame({'A' : [1, 2, 3], 'B' : [4, 5, 6]})\n",
    "\n",
    "# Получаем матрицу\n",
    "df_m = df.values\n",
    "\n",
    "print(df)\n",
    "print(df_m)"
   ]
  },
  {
   "cell_type": "markdown",
   "metadata": {},
   "source": [
    "При помощи атрибута `shape` можно получить размер матрицы, где первое число - количество строк, второе - количество столбцов"
   ]
  },
  {
   "cell_type": "code",
   "execution_count": 14,
   "metadata": {},
   "outputs": [
    {
     "name": "stdout",
     "output_type": "stream",
     "text": [
      "(3, 2)\n"
     ]
    }
   ],
   "source": [
    "print(df_m.shape)"
   ]
  },
  {
   "cell_type": "markdown",
   "metadata": {},
   "source": [
    "### Действия над матрицами\n",
    "\n",
    "С матрицами можно совершать те же поэлементные действия что и с векторами, главное чтобы матрицы были **одинакового размера**"
   ]
  },
  {
   "cell_type": "code",
   "execution_count": 15,
   "metadata": {},
   "outputs": [
    {
     "name": "stdout",
     "output_type": "stream",
     "text": [
      "Сумма матриц: [[ 6  8]\n",
      " [10 12]]\n",
      "Разность матриц: [[-4 -4]\n",
      " [-4 -4]]\n",
      "Матрица умноженная на число: [[0.5 1. ]\n",
      " [1.5 2. ]]\n"
     ]
    }
   ],
   "source": [
    "m_1 = np.array([[1, 2], [3, 4]])\n",
    "m_2 = np.array([[5, 6], [7, 8]])\n",
    "\n",
    "matrix_sum = m_1 + m_2\n",
    "matrix_diff = m_1 - m_2\n",
    "m_1_new = m_1 * 0.5\n",
    "\n",
    "print(\"Сумма матриц:\", matrix_sum)\n",
    "print(\"Разность матриц:\", matrix_diff)\n",
    "print(\"Матрица умноженная на число:\", m_1_new)"
   ]
  },
  {
   "cell_type": "code",
   "execution_count": 16,
   "metadata": {},
   "outputs": [
    {
     "name": "stdout",
     "output_type": "stream",
     "text": [
      "[[1 2]\n",
      " [3 4]]\n",
      "[[10  9]\n",
      " [ 8  7]]\n"
     ]
    }
   ],
   "source": [
    "m_A = np.array([[1, 2], [3, 4]])\n",
    "m_B = np.array([[10, 9], [8, 7]])\n",
    "\n",
    "print(m_A)\n",
    "print(m_B)"
   ]
  },
  {
   "cell_type": "code",
   "execution_count": 19,
   "metadata": {},
   "outputs": [
    {
     "name": "stdout",
     "output_type": "stream",
     "text": [
      "[[12 13]\n",
      " [14 15]]\n"
     ]
    },
    {
     "data": {
      "text/plain": [
       "54"
      ]
     },
     "execution_count": 19,
     "metadata": {},
     "output_type": "execute_result"
    }
   ],
   "source": [
    "res = 2 * m_A + m_B\n",
    "print(res)\n",
    "res.sum()"
   ]
  },
  {
   "cell_type": "markdown",
   "metadata": {},
   "source": [
    "### Умножение матриц\n",
    "\n",
    "Умножение матриц осуществляется по правилу **\"Строка на столбец\"** т.е. каждый элемент строки матрицы умножается на соответствующий ей столбец второй матрицы. Разберем подробнее:\n",
    "\n",
    "$A = \\begin{pmatrix}\n",
    "1 & 2 \\\\\n",
    "3 & 4 \\\\\n",
    "\\end{pmatrix}  $\n",
    "\n",
    "$B = \\begin{pmatrix}\n",
    "4 & 3 \\\\\n",
    "2 & 1 \\\\\n",
    "\\end{pmatrix}  $\n",
    "\n",
    "$C = AB$\n",
    "\n",
    "Найдем матрицу С поэлементно, элемент первой строки первого столбца - сумма произведений элементов первой строки матрицы A и элементов первого столбца матрицы B: \n",
    "\n",
    "$c_{11} = a_{11}*b_{11} + a{12}*b{12} = 1*4 + 2*2 = 8$\n",
    "\n",
    "Аналогично элемент первой строки второго столбца матрицы: \n",
    "\n",
    "$c_{12} = a_{12}*b_{21} + a{12}*b{22} = 1*3 + 2*1 = 5$\n",
    "\n",
    "И т.д.\n",
    "\n",
    "**Умножение двух матриц размером (a, m), (n, b) возможно тогда и только тогда, когда количество столбцов m первой матрицы равняется количеству строк n второй матрицы, т.е только при m = n. И результатом умножения будет матрица размером (a, b)**\n",
    "\n",
    "\n",
    "В numpy умножение матриц производится при помощи функции `np.dot()`"
   ]
  },
  {
   "cell_type": "code",
   "execution_count": 22,
   "metadata": {},
   "outputs": [
    {
     "name": "stdout",
     "output_type": "stream",
     "text": [
      "[[ 3  4 -1]]\n",
      "[[5]\n",
      " [0]\n",
      " [7]]\n"
     ]
    }
   ],
   "source": [
    "m_A =  np.array([[3, 4, -1]])\n",
    "m_B = np.array([[5], [0], [7]])\n",
    "print(m_A)\n",
    "print(m_B)"
   ]
  },
  {
   "cell_type": "code",
   "execution_count": 31,
   "metadata": {},
   "outputs": [
    {
     "name": "stdout",
     "output_type": "stream",
     "text": [
      "[[8]]\n"
     ]
    }
   ],
   "source": [
    "if m_A.shape[1] == m_B.shape[0]:\n",
    "    res = np.dot(m_A, m_B)\n",
    "print(res)"
   ]
  },
  {
   "cell_type": "code",
   "execution_count": 20,
   "metadata": {},
   "outputs": [
    {
     "name": "stdout",
     "output_type": "stream",
     "text": [
      "[[ 8  5]\n",
      " [20 13]]\n"
     ]
    }
   ],
   "source": [
    "A = np.array([[1, 2], [3, 4]])\n",
    "B = np.array([[4, 3], [2, 1]])\n",
    "\n",
    "matrix_mul = np.dot(A, B)\n",
    "\n",
    "print(matrix_mul)"
   ]
  },
  {
   "cell_type": "markdown",
   "metadata": {},
   "source": [
    "### Транспонирование матриц\n",
    "\n",
    "Транспонирование матрицы - это процесс ее отражения относительно главной диагонали, которая идет из верхнего левого угла от элемента $a_{11}$ в нижний правый угол до элемента $a_{nn}$. Т.е. строки матрицы становятся столбцами и наоборот. \n",
    "\n",
    "Транспонированная матрица обозначается индексом **T**\n",
    "\n",
    "$A = \\begin{pmatrix}\n",
    "a_{11} & a_{12} & \\ldots & a_{1n} \\\\\n",
    "a_{21} & a_{22} & \\ldots & a_{2n} \\\\\n",
    "\\vdots & \\vdots & \\vdots & \\vdots \\\\\n",
    "a_{n1} & a_{n2} & \\ldots & a_{nn} \\\\\n",
    "\\end{pmatrix}  $\n",
    "\n",
    "$A^T = \\begin{pmatrix}\n",
    "a_{11} & a_{21} & \\ldots & a_{n1} \\\\\n",
    "a_{12} & a_{22} & \\ldots & a_{n2} \\\\\n",
    "\\vdots & \\vdots & \\vdots & \\vdots \\\\\n",
    "a_{1n} & a_{2n} & \\ldots & a_{nn} \\\\\n",
    "\\end{pmatrix}$\n",
    "\n",
    "В numpy операция транспонирования получается при помощи атрибута `T`"
   ]
  },
  {
   "cell_type": "code",
   "execution_count": 21,
   "metadata": {},
   "outputs": [
    {
     "name": "stdout",
     "output_type": "stream",
     "text": [
      "Обычная матрица \n",
      " [[1 2 3]\n",
      " [4 5 6]\n",
      " [7 8 9]]\n",
      "Транспонированная матрица \n",
      " [[1 4 7]\n",
      " [2 5 8]\n",
      " [3 6 9]]\n"
     ]
    }
   ],
   "source": [
    "M = np.array([[1, 2, 3], [4, 5, 6], [7, 8, 9]])\n",
    "\n",
    "print(\"Обычная матрица \\n\", M)\n",
    "\n",
    "print(\"Транспонированная матрица \\n\", M.T)"
   ]
  },
  {
   "cell_type": "markdown",
   "metadata": {},
   "source": [
    "## Домашнее задание\n",
    "1) Показать что операция умножения матриц не коммутативна, т.е. AB != BA\n",
    "\n",
    "2) Можно ли перемножить матрицу $A = \\begin{pmatrix} 1 & 2 \\\\ 3 & 4 \\\\ \\end{pmatrix}$ и вектор $b = \\begin{pmatrix} 1 & 2 \\\\ \\end{pmatrix}$, если нет, то что сделать чтобы это было возможно?"
   ]
  }
 ],
 "metadata": {
  "kernelspec": {
   "display_name": "Python 3",
   "language": "python",
   "name": "python3"
  },
  "language_info": {
   "codemirror_mode": {
    "name": "ipython",
    "version": 3
   },
   "file_extension": ".py",
   "mimetype": "text/x-python",
   "name": "python",
   "nbconvert_exporter": "python",
   "pygments_lexer": "ipython3",
   "version": "3.9.13"
  }
 },
 "nbformat": 4,
 "nbformat_minor": 4
}
